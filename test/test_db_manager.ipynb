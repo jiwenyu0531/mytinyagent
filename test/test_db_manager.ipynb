{
 "cells": [
  {
   "cell_type": "code",
   "execution_count": 8,
   "metadata": {},
   "outputs": [
    {
     "name": "stdout",
     "output_type": "stream",
     "text": [
      "The autoreload extension is already loaded. To reload it, use:\n",
      "  %reload_ext autoreload\n"
     ]
    }
   ],
   "source": [
    "%load_ext autoreload\n",
    "%autoreload 2\n",
    "\n",
    "import sys\n",
    "import os\n",
    "import numpy as np\n",
    "from datetime import date, datetime\n",
    "sys.path.append(os.path.abspath(os.path.join(os.getcwd(), '..')))"
   ]
  },
  {
   "cell_type": "code",
   "execution_count": 2,
   "metadata": {},
   "outputs": [],
   "source": [
    "from data_manager import DataManager\n",
    "# Initialize with default database (make sure PostgreSQL is running)\n",
    "dm = DataManager()"
   ]
  },
  {
   "cell_type": "code",
   "execution_count": 3,
   "metadata": {},
   "outputs": [
    {
     "name": "stdout",
     "output_type": "stream",
     "text": [
      "2025-02-06 14:32:12,461 INFO sqlalchemy.engine.Engine select pg_catalog.version()\n",
      "2025-02-06 14:32:12,461 INFO sqlalchemy.engine.Engine [raw sql] {}\n",
      "2025-02-06 14:32:12,464 INFO sqlalchemy.engine.Engine select current_schema()\n",
      "2025-02-06 14:32:12,464 INFO sqlalchemy.engine.Engine [raw sql] {}\n",
      "2025-02-06 14:32:12,465 INFO sqlalchemy.engine.Engine show standard_conforming_strings\n",
      "2025-02-06 14:32:12,465 INFO sqlalchemy.engine.Engine [raw sql] {}\n",
      "2025-02-06 14:32:12,466 INFO sqlalchemy.engine.Engine BEGIN (implicit)\n",
      "2025-02-06 14:32:12,466 INFO sqlalchemy.engine.Engine DROP SCHEMA public CASCADE;\n",
      "2025-02-06 14:32:12,466 INFO sqlalchemy.engine.Engine [generated in 0.00024s] {}\n",
      "2025-02-06 14:32:12,486 INFO sqlalchemy.engine.Engine CREATE SCHEMA public;\n",
      "2025-02-06 14:32:12,487 INFO sqlalchemy.engine.Engine [generated in 0.00105s] {}\n",
      "2025-02-06 14:32:12,488 INFO sqlalchemy.engine.Engine COMMIT\n",
      "2025-02-06 14:32:12,497 INFO sqlalchemy.engine.Engine BEGIN (implicit)\n",
      "2025-02-06 14:32:12,500 INFO sqlalchemy.engine.Engine SELECT pg_catalog.pg_class.relname \n",
      "FROM pg_catalog.pg_class JOIN pg_catalog.pg_namespace ON pg_catalog.pg_namespace.oid = pg_catalog.pg_class.relnamespace \n",
      "WHERE pg_catalog.pg_class.relname = %(table_name)s AND pg_catalog.pg_class.relkind = ANY (ARRAY[%(param_1)s, %(param_2)s, %(param_3)s, %(param_4)s, %(param_5)s]) AND pg_catalog.pg_table_is_visible(pg_catalog.pg_class.oid) AND pg_catalog.pg_namespace.nspname != %(nspname_1)s\n",
      "2025-02-06 14:32:12,501 INFO sqlalchemy.engine.Engine [generated in 0.00172s] {'table_name': 'conference', 'param_1': 'r', 'param_2': 'p', 'param_3': 'f', 'param_4': 'v', 'param_5': 'm', 'nspname_1': 'pg_catalog'}\n",
      "2025-02-06 14:32:12,506 INFO sqlalchemy.engine.Engine SELECT pg_catalog.pg_class.relname \n",
      "FROM pg_catalog.pg_class JOIN pg_catalog.pg_namespace ON pg_catalog.pg_namespace.oid = pg_catalog.pg_class.relnamespace \n",
      "WHERE pg_catalog.pg_class.relname = %(table_name)s AND pg_catalog.pg_class.relkind = ANY (ARRAY[%(param_1)s, %(param_2)s, %(param_3)s, %(param_4)s, %(param_5)s]) AND pg_catalog.pg_table_is_visible(pg_catalog.pg_class.oid) AND pg_catalog.pg_namespace.nspname != %(nspname_1)s\n",
      "2025-02-06 14:32:12,507 INFO sqlalchemy.engine.Engine [cached since 0.007131s ago] {'table_name': 'conference_instance', 'param_1': 'r', 'param_2': 'p', 'param_3': 'f', 'param_4': 'v', 'param_5': 'm', 'nspname_1': 'pg_catalog'}\n",
      "2025-02-06 14:32:12,507 INFO sqlalchemy.engine.Engine SELECT pg_catalog.pg_class.relname \n",
      "FROM pg_catalog.pg_class JOIN pg_catalog.pg_namespace ON pg_catalog.pg_namespace.oid = pg_catalog.pg_class.relnamespace \n",
      "WHERE pg_catalog.pg_class.relname = %(table_name)s AND pg_catalog.pg_class.relkind = ANY (ARRAY[%(param_1)s, %(param_2)s, %(param_3)s, %(param_4)s, %(param_5)s]) AND pg_catalog.pg_table_is_visible(pg_catalog.pg_class.oid) AND pg_catalog.pg_namespace.nspname != %(nspname_1)s\n",
      "2025-02-06 14:32:12,508 INFO sqlalchemy.engine.Engine [cached since 0.008048s ago] {'table_name': 'reference', 'param_1': 'r', 'param_2': 'p', 'param_3': 'f', 'param_4': 'v', 'param_5': 'm', 'nspname_1': 'pg_catalog'}\n",
      "2025-02-06 14:32:12,508 INFO sqlalchemy.engine.Engine SELECT pg_catalog.pg_class.relname \n",
      "FROM pg_catalog.pg_class JOIN pg_catalog.pg_namespace ON pg_catalog.pg_namespace.oid = pg_catalog.pg_class.relnamespace \n",
      "WHERE pg_catalog.pg_class.relname = %(table_name)s AND pg_catalog.pg_class.relkind = ANY (ARRAY[%(param_1)s, %(param_2)s, %(param_3)s, %(param_4)s, %(param_5)s]) AND pg_catalog.pg_table_is_visible(pg_catalog.pg_class.oid) AND pg_catalog.pg_namespace.nspname != %(nspname_1)s\n",
      "2025-02-06 14:32:12,509 INFO sqlalchemy.engine.Engine [cached since 0.00903s ago] {'table_name': 'paper_references', 'param_1': 'r', 'param_2': 'p', 'param_3': 'f', 'param_4': 'v', 'param_5': 'm', 'nspname_1': 'pg_catalog'}\n",
      "2025-02-06 14:32:12,509 INFO sqlalchemy.engine.Engine SELECT pg_catalog.pg_class.relname \n",
      "FROM pg_catalog.pg_class JOIN pg_catalog.pg_namespace ON pg_catalog.pg_namespace.oid = pg_catalog.pg_class.relnamespace \n",
      "WHERE pg_catalog.pg_class.relname = %(table_name)s AND pg_catalog.pg_class.relkind = ANY (ARRAY[%(param_1)s, %(param_2)s, %(param_3)s, %(param_4)s, %(param_5)s]) AND pg_catalog.pg_table_is_visible(pg_catalog.pg_class.oid) AND pg_catalog.pg_namespace.nspname != %(nspname_1)s\n",
      "2025-02-06 14:32:12,509 INFO sqlalchemy.engine.Engine [cached since 0.009622s ago] {'table_name': 'paper', 'param_1': 'r', 'param_2': 'p', 'param_3': 'f', 'param_4': 'v', 'param_5': 'm', 'nspname_1': 'pg_catalog'}\n",
      "2025-02-06 14:32:12,510 INFO sqlalchemy.engine.Engine SELECT pg_catalog.pg_class.relname \n",
      "FROM pg_catalog.pg_class JOIN pg_catalog.pg_namespace ON pg_catalog.pg_namespace.oid = pg_catalog.pg_class.relnamespace \n",
      "WHERE pg_catalog.pg_class.relname = %(table_name)s AND pg_catalog.pg_class.relkind = ANY (ARRAY[%(param_1)s, %(param_2)s, %(param_3)s, %(param_4)s, %(param_5)s]) AND pg_catalog.pg_table_is_visible(pg_catalog.pg_class.oid) AND pg_catalog.pg_namespace.nspname != %(nspname_1)s\n",
      "2025-02-06 14:32:12,510 INFO sqlalchemy.engine.Engine [cached since 0.01031s ago] {'table_name': 'content_embedding', 'param_1': 'r', 'param_2': 'p', 'param_3': 'f', 'param_4': 'v', 'param_5': 'm', 'nspname_1': 'pg_catalog'}\n",
      "2025-02-06 14:32:12,510 INFO sqlalchemy.engine.Engine SELECT pg_catalog.pg_class.relname \n",
      "FROM pg_catalog.pg_class JOIN pg_catalog.pg_namespace ON pg_catalog.pg_namespace.oid = pg_catalog.pg_class.relnamespace \n",
      "WHERE pg_catalog.pg_class.relname = %(table_name)s AND pg_catalog.pg_class.relkind = ANY (ARRAY[%(param_1)s, %(param_2)s, %(param_3)s, %(param_4)s, %(param_5)s]) AND pg_catalog.pg_table_is_visible(pg_catalog.pg_class.oid) AND pg_catalog.pg_namespace.nspname != %(nspname_1)s\n",
      "2025-02-06 14:32:12,511 INFO sqlalchemy.engine.Engine [cached since 0.01098s ago] {'table_name': 'paper_embedding', 'param_1': 'r', 'param_2': 'p', 'param_3': 'f', 'param_4': 'v', 'param_5': 'm', 'nspname_1': 'pg_catalog'}\n",
      "2025-02-06 14:32:12,511 INFO sqlalchemy.engine.Engine SELECT pg_catalog.pg_class.relname \n",
      "FROM pg_catalog.pg_class JOIN pg_catalog.pg_namespace ON pg_catalog.pg_namespace.oid = pg_catalog.pg_class.relnamespace \n",
      "WHERE pg_catalog.pg_class.relname = %(table_name)s AND pg_catalog.pg_class.relkind = ANY (ARRAY[%(param_1)s, %(param_2)s, %(param_3)s, %(param_4)s, %(param_5)s]) AND pg_catalog.pg_table_is_visible(pg_catalog.pg_class.oid) AND pg_catalog.pg_namespace.nspname != %(nspname_1)s\n",
      "2025-02-06 14:32:12,511 INFO sqlalchemy.engine.Engine [cached since 0.01188s ago] {'table_name': 'author', 'param_1': 'r', 'param_2': 'p', 'param_3': 'f', 'param_4': 'v', 'param_5': 'm', 'nspname_1': 'pg_catalog'}\n",
      "2025-02-06 14:32:12,573 INFO sqlalchemy.engine.Engine SELECT pg_catalog.pg_class.relname \n",
      "FROM pg_catalog.pg_class JOIN pg_catalog.pg_namespace ON pg_catalog.pg_namespace.oid = pg_catalog.pg_class.relnamespace \n",
      "WHERE pg_catalog.pg_class.relname = %(table_name)s AND pg_catalog.pg_class.relkind = ANY (ARRAY[%(param_1)s, %(param_2)s, %(param_3)s, %(param_4)s, %(param_5)s]) AND pg_catalog.pg_table_is_visible(pg_catalog.pg_class.oid) AND pg_catalog.pg_namespace.nspname != %(nspname_1)s\n",
      "2025-02-06 14:32:12,574 INFO sqlalchemy.engine.Engine [cached since 0.07411s ago] {'table_name': 'paper_authors', 'param_1': 'r', 'param_2': 'p', 'param_3': 'f', 'param_4': 'v', 'param_5': 'm', 'nspname_1': 'pg_catalog'}\n",
      "2025-02-06 14:32:12,575 INFO sqlalchemy.engine.Engine SELECT pg_catalog.pg_class.relname \n",
      "FROM pg_catalog.pg_class JOIN pg_catalog.pg_namespace ON pg_catalog.pg_namespace.oid = pg_catalog.pg_class.relnamespace \n",
      "WHERE pg_catalog.pg_class.relname = %(table_name)s AND pg_catalog.pg_class.relkind = ANY (ARRAY[%(param_1)s, %(param_2)s, %(param_3)s, %(param_4)s, %(param_5)s]) AND pg_catalog.pg_table_is_visible(pg_catalog.pg_class.oid) AND pg_catalog.pg_namespace.nspname != %(nspname_1)s\n",
      "2025-02-06 14:32:12,575 INFO sqlalchemy.engine.Engine [cached since 0.07531s ago] {'table_name': 'affiliation', 'param_1': 'r', 'param_2': 'p', 'param_3': 'f', 'param_4': 'v', 'param_5': 'm', 'nspname_1': 'pg_catalog'}\n",
      "2025-02-06 14:32:12,576 INFO sqlalchemy.engine.Engine SELECT pg_catalog.pg_class.relname \n",
      "FROM pg_catalog.pg_class JOIN pg_catalog.pg_namespace ON pg_catalog.pg_namespace.oid = pg_catalog.pg_class.relnamespace \n",
      "WHERE pg_catalog.pg_class.relname = %(table_name)s AND pg_catalog.pg_class.relkind = ANY (ARRAY[%(param_1)s, %(param_2)s, %(param_3)s, %(param_4)s, %(param_5)s]) AND pg_catalog.pg_table_is_visible(pg_catalog.pg_class.oid) AND pg_catalog.pg_namespace.nspname != %(nspname_1)s\n",
      "2025-02-06 14:32:12,576 INFO sqlalchemy.engine.Engine [cached since 0.07613s ago] {'table_name': 'author_affiliation', 'param_1': 'r', 'param_2': 'p', 'param_3': 'f', 'param_4': 'v', 'param_5': 'm', 'nspname_1': 'pg_catalog'}\n",
      "2025-02-06 14:32:12,576 INFO sqlalchemy.engine.Engine SELECT pg_catalog.pg_class.relname \n",
      "FROM pg_catalog.pg_class JOIN pg_catalog.pg_namespace ON pg_catalog.pg_namespace.oid = pg_catalog.pg_class.relnamespace \n",
      "WHERE pg_catalog.pg_class.relname = %(table_name)s AND pg_catalog.pg_class.relkind = ANY (ARRAY[%(param_1)s, %(param_2)s, %(param_3)s, %(param_4)s, %(param_5)s]) AND pg_catalog.pg_table_is_visible(pg_catalog.pg_class.oid) AND pg_catalog.pg_namespace.nspname != %(nspname_1)s\n",
      "2025-02-06 14:32:12,576 INFO sqlalchemy.engine.Engine [cached since 0.0769s ago] {'table_name': 'keyword', 'param_1': 'r', 'param_2': 'p', 'param_3': 'f', 'param_4': 'v', 'param_5': 'm', 'nspname_1': 'pg_catalog'}\n",
      "2025-02-06 14:32:12,578 INFO sqlalchemy.engine.Engine SELECT pg_catalog.pg_class.relname \n",
      "FROM pg_catalog.pg_class JOIN pg_catalog.pg_namespace ON pg_catalog.pg_namespace.oid = pg_catalog.pg_class.relnamespace \n",
      "WHERE pg_catalog.pg_class.relname = %(table_name)s AND pg_catalog.pg_class.relkind = ANY (ARRAY[%(param_1)s, %(param_2)s, %(param_3)s, %(param_4)s, %(param_5)s]) AND pg_catalog.pg_table_is_visible(pg_catalog.pg_class.oid) AND pg_catalog.pg_namespace.nspname != %(nspname_1)s\n",
      "2025-02-06 14:32:12,578 INFO sqlalchemy.engine.Engine [cached since 0.07811s ago] {'table_name': 'paper_keywords', 'param_1': 'r', 'param_2': 'p', 'param_3': 'f', 'param_4': 'v', 'param_5': 'm', 'nspname_1': 'pg_catalog'}\n",
      "2025-02-06 14:32:12,588 INFO sqlalchemy.engine.Engine \n",
      "CREATE TABLE conference (\n",
      "\tconference_id SERIAL NOT NULL, \n",
      "\tname VARCHAR(255) NOT NULL, \n",
      "\ttype VARCHAR(255) NOT NULL, \n",
      "\tdescription TEXT, \n",
      "\tPRIMARY KEY (conference_id), \n",
      "\tCONSTRAINT unique_conference_name UNIQUE (name), \n",
      "\tUNIQUE (name)\n",
      ")\n",
      "\n",
      "\n",
      "2025-02-06 14:32:12,588 INFO sqlalchemy.engine.Engine [no key 0.00042s] {}\n",
      "2025-02-06 14:32:12,598 INFO sqlalchemy.engine.Engine \n",
      "CREATE TABLE reference (\n",
      "\treference_id SERIAL NOT NULL, \n",
      "\ttitle VARCHAR(255) NOT NULL, \n",
      "\tauthor TEXT, \n",
      "\tyear INTEGER, \n",
      "\tjournal VARCHAR(255), \n",
      "\tweb_url VARCHAR(255), \n",
      "\tPRIMARY KEY (reference_id)\n",
      ")\n",
      "\n",
      "\n",
      "2025-02-06 14:32:12,599 INFO sqlalchemy.engine.Engine [no key 0.00032s] {}\n",
      "2025-02-06 14:32:12,604 INFO sqlalchemy.engine.Engine \n",
      "CREATE TABLE content_embedding (\n",
      "\tembedding_id SERIAL NOT NULL, \n",
      "\tembedding FLOAT[] NOT NULL, \n",
      "\tPRIMARY KEY (embedding_id)\n",
      ")\n",
      "\n",
      "\n",
      "2025-02-06 14:32:12,605 INFO sqlalchemy.engine.Engine [no key 0.00023s] {}\n",
      "2025-02-06 14:32:12,610 INFO sqlalchemy.engine.Engine \n",
      "CREATE TABLE author (\n",
      "\tauthor_id VARCHAR(255) NOT NULL, \n",
      "\tname VARCHAR(255) NOT NULL, \n",
      "\temail VARCHAR(255), \n",
      "\tgoogle_scholar_url VARCHAR(255), \n",
      "\thome_website VARCHAR(255), \n",
      "\tnationality VARCHAR(100), \n",
      "\tPRIMARY KEY (author_id)\n",
      ")\n",
      "\n",
      "\n",
      "2025-02-06 14:32:12,611 INFO sqlalchemy.engine.Engine [no key 0.00031s] {}\n",
      "2025-02-06 14:32:12,615 INFO sqlalchemy.engine.Engine CREATE INDEX idx_author_name ON author (name)\n",
      "2025-02-06 14:32:12,615 INFO sqlalchemy.engine.Engine [no key 0.00024s] {}\n",
      "2025-02-06 14:32:12,617 INFO sqlalchemy.engine.Engine \n",
      "CREATE TABLE affiliation (\n",
      "\taffiliation_id SERIAL NOT NULL, \n",
      "\tname VARCHAR(255) NOT NULL, \n",
      "\taliases VARCHAR[], \n",
      "\ttype VARCHAR(100) NOT NULL, \n",
      "\tlocation VARCHAR(255), \n",
      "\twebsite VARCHAR(255), \n",
      "\tdescription TEXT, \n",
      "\tPRIMARY KEY (affiliation_id)\n",
      ")\n",
      "\n",
      "\n",
      "2025-02-06 14:32:12,617 INFO sqlalchemy.engine.Engine [no key 0.00016s] {}\n",
      "2025-02-06 14:32:12,623 INFO sqlalchemy.engine.Engine \n",
      "CREATE TABLE keyword (\n",
      "\tkeyword_id SERIAL NOT NULL, \n",
      "\tkeyword VARCHAR(255) NOT NULL, \n",
      "\tdescription TEXT, \n",
      "\tPRIMARY KEY (keyword_id), \n",
      "\tUNIQUE (keyword)\n",
      ")\n",
      "\n",
      "\n",
      "2025-02-06 14:32:12,623 INFO sqlalchemy.engine.Engine [no key 0.00031s] {}\n",
      "2025-02-06 14:32:12,629 INFO sqlalchemy.engine.Engine \n",
      "CREATE TABLE conference_instance (\n",
      "\tinstance_id SERIAL NOT NULL, \n",
      "\tname VARCHAR(255) NOT NULL, \n",
      "\tconference_id INTEGER NOT NULL, \n",
      "\tyear INTEGER NOT NULL, \n",
      "\tstart_date DATE, \n",
      "\tend_date DATE, \n",
      "\tlocation VARCHAR(255), \n",
      "\twebsite VARCHAR(255), \n",
      "\tPRIMARY KEY (instance_id), \n",
      "\tUNIQUE (name), \n",
      "\tFOREIGN KEY(conference_id) REFERENCES conference (conference_id)\n",
      ")\n",
      "\n",
      "\n",
      "2025-02-06 14:32:12,629 INFO sqlalchemy.engine.Engine [no key 0.00028s] {}\n",
      "2025-02-06 14:32:12,636 INFO sqlalchemy.engine.Engine \n",
      "CREATE TABLE author_affiliation (\n",
      "\tauthor_id VARCHAR(255) NOT NULL, \n",
      "\taffiliation_id INTEGER NOT NULL, \n",
      "\tPRIMARY KEY (author_id, affiliation_id), \n",
      "\tFOREIGN KEY(author_id) REFERENCES author (author_id) ON DELETE CASCADE, \n",
      "\tFOREIGN KEY(affiliation_id) REFERENCES affiliation (affiliation_id) ON DELETE CASCADE\n",
      ")\n",
      "\n",
      "\n",
      "2025-02-06 14:32:12,636 INFO sqlalchemy.engine.Engine [no key 0.00026s] {}\n",
      "2025-02-06 14:32:12,639 INFO sqlalchemy.engine.Engine \n",
      "CREATE TABLE paper (\n",
      "\tpaper_id SERIAL NOT NULL, \n",
      "\tinstance_id INTEGER NOT NULL, \n",
      "\ttitle VARCHAR(255) NOT NULL, \n",
      "\ttype VARCHAR(50), \n",
      "\tyear INTEGER NOT NULL, \n",
      "\tpublish_date DATE, \n",
      "\ttldr TEXT, \n",
      "\tabstract TEXT, \n",
      "\tcontent TEXT, \n",
      "\tpdf_path VARCHAR(255), \n",
      "\tcitation_count INTEGER, \n",
      "\taward VARCHAR(255), \n",
      "\tdoi VARCHAR(255), \n",
      "\tcode_url VARCHAR(255), \n",
      "\tsupplementary_material_url VARCHAR(255), \n",
      "\tPRIMARY KEY (paper_id), \n",
      "\tFOREIGN KEY(instance_id) REFERENCES conference_instance (instance_id)\n",
      ")\n",
      "\n",
      "\n",
      "2025-02-06 14:32:12,639 INFO sqlalchemy.engine.Engine [no key 0.00019s] {}\n",
      "2025-02-06 14:32:12,643 INFO sqlalchemy.engine.Engine CREATE INDEX idx_paper_title ON paper (title)\n",
      "2025-02-06 14:32:12,643 INFO sqlalchemy.engine.Engine [no key 0.00020s] {}\n",
      "2025-02-06 14:32:12,645 INFO sqlalchemy.engine.Engine \n",
      "CREATE TABLE paper_references (\n",
      "\tpaper_id INTEGER NOT NULL, \n",
      "\treference_id INTEGER NOT NULL, \n",
      "\tPRIMARY KEY (paper_id, reference_id), \n",
      "\tFOREIGN KEY(paper_id) REFERENCES paper (paper_id) ON DELETE CASCADE, \n",
      "\tFOREIGN KEY(reference_id) REFERENCES reference (reference_id) ON DELETE CASCADE\n",
      ")\n",
      "\n",
      "\n",
      "2025-02-06 14:32:12,645 INFO sqlalchemy.engine.Engine [no key 0.00017s] {}\n",
      "2025-02-06 14:32:12,647 INFO sqlalchemy.engine.Engine \n",
      "CREATE TABLE paper_embedding (\n",
      "\tpaper_id INTEGER NOT NULL, \n",
      "\tembedding_id INTEGER NOT NULL, \n",
      "\tPRIMARY KEY (paper_id, embedding_id), \n",
      "\tFOREIGN KEY(paper_id) REFERENCES paper (paper_id) ON DELETE CASCADE, \n",
      "\tFOREIGN KEY(embedding_id) REFERENCES content_embedding (embedding_id) ON DELETE CASCADE\n",
      ")\n",
      "\n",
      "\n",
      "2025-02-06 14:32:12,647 INFO sqlalchemy.engine.Engine [no key 0.00025s] {}\n",
      "2025-02-06 14:32:12,650 INFO sqlalchemy.engine.Engine \n",
      "CREATE TABLE paper_authors (\n",
      "\tpaper_id INTEGER NOT NULL, \n",
      "\tauthor_id VARCHAR(255) NOT NULL, \n",
      "\tPRIMARY KEY (paper_id, author_id), \n",
      "\tFOREIGN KEY(paper_id) REFERENCES paper (paper_id) ON DELETE CASCADE, \n",
      "\tFOREIGN KEY(author_id) REFERENCES author (author_id) ON DELETE CASCADE\n",
      ")\n",
      "\n",
      "\n",
      "2025-02-06 14:32:12,650 INFO sqlalchemy.engine.Engine [no key 0.00015s] {}\n",
      "2025-02-06 14:32:12,653 INFO sqlalchemy.engine.Engine \n",
      "CREATE TABLE paper_keywords (\n",
      "\tpaper_id INTEGER NOT NULL, \n",
      "\tkeyword_id INTEGER NOT NULL, \n",
      "\tPRIMARY KEY (paper_id, keyword_id), \n",
      "\tFOREIGN KEY(paper_id) REFERENCES paper (paper_id) ON DELETE CASCADE, \n",
      "\tFOREIGN KEY(keyword_id) REFERENCES keyword (keyword_id) ON DELETE CASCADE\n",
      ")\n",
      "\n",
      "\n",
      "2025-02-06 14:32:12,653 INFO sqlalchemy.engine.Engine [no key 0.00014s] {}\n",
      "2025-02-06 14:32:12,655 INFO sqlalchemy.engine.Engine COMMIT\n"
     ]
    },
    {
     "data": {
      "text/plain": [
       "True"
      ]
     },
     "execution_count": 3,
     "metadata": {},
     "output_type": "execute_result"
    }
   ],
   "source": [
    "dm.reset_database()"
   ]
  },
  {
   "cell_type": "code",
   "execution_count": null,
   "metadata": {},
   "outputs": [],
   "source": [
    "# Create tables (only need to run once)\n",
    "dm.create_tables()"
   ]
  },
  {
   "cell_type": "code",
   "execution_count": null,
   "metadata": {},
   "outputs": [],
   "source": [
    "# Test clear all data\n",
    "dm.clear_all_data()\n",
    "print(\"All data cleared successfully\")"
   ]
  },
  {
   "cell_type": "code",
   "execution_count": 4,
   "metadata": {},
   "outputs": [
    {
     "name": "stdout",
     "output_type": "stream",
     "text": [
      "2025-02-06 14:32:15,742 INFO sqlalchemy.engine.Engine BEGIN (implicit)\n",
      "2025-02-06 14:32:15,743 INFO sqlalchemy.engine.Engine SELECT conference.conference_id AS conference_conference_id, conference.name AS conference_name, conference.type AS conference_type, conference.description AS conference_description \n",
      "FROM conference \n",
      "WHERE conference.name = %(name_1)s \n",
      " LIMIT %(param_1)s\n",
      "2025-02-06 14:32:15,744 INFO sqlalchemy.engine.Engine [generated in 0.00033s] {'name_1': 'MICRO', 'param_1': 1}\n",
      "2025-02-06 14:32:15,750 INFO sqlalchemy.engine.Engine INSERT INTO conference (name, type, description) VALUES (%(name)s, %(type)s, %(description)s) RETURNING conference.conference_id\n",
      "2025-02-06 14:32:15,750 INFO sqlalchemy.engine.Engine [generated in 0.00035s] {'name': 'MICRO', 'type': 'Microarchitecture', 'description': 'IEEE/ACM International Symposium on Microarchitecture'}\n",
      "2025-02-06 14:32:15,752 INFO sqlalchemy.engine.Engine COMMIT\n",
      "2025-02-06 14:32:15,754 INFO sqlalchemy.engine.Engine BEGIN (implicit)\n",
      "2025-02-06 14:32:15,754 INFO sqlalchemy.engine.Engine SELECT conference.conference_id, conference.name, conference.type, conference.description \n",
      "FROM conference \n",
      "WHERE conference.conference_id = %(pk_1)s\n",
      "2025-02-06 14:32:15,754 INFO sqlalchemy.engine.Engine [generated in 0.00020s] {'pk_1': 1}\n",
      "2025-02-06 14:32:15,755 INFO sqlalchemy.engine.Engine ROLLBACK\n"
     ]
    }
   ],
   "source": [
    "conf = dm.create_conference(\n",
    "    name =\"MICRO\",\n",
    "    type =\"Microarchitecture\",\n",
    "    description =\"IEEE/ACM International Symposium on Microarchitecture\"\n",
    ")"
   ]
  },
  {
   "cell_type": "code",
   "execution_count": 5,
   "metadata": {},
   "outputs": [
    {
     "name": "stdout",
     "output_type": "stream",
     "text": [
      "2025-02-06 14:32:22,222 INFO sqlalchemy.engine.Engine BEGIN (implicit)\n",
      "2025-02-06 14:32:22,223 INFO sqlalchemy.engine.Engine SELECT conference.conference_id AS conference_conference_id, conference.name AS conference_name, conference.type AS conference_type, conference.description AS conference_description \n",
      "FROM conference \n",
      "WHERE conference.name = %(name_1)s \n",
      " LIMIT %(param_1)s\n",
      "2025-02-06 14:32:22,223 INFO sqlalchemy.engine.Engine [cached since 6.48s ago] {'name_1': 'ICML', 'param_1': 1}\n",
      "2025-02-06 14:32:22,226 INFO sqlalchemy.engine.Engine INSERT INTO conference (name, type, description) VALUES (%(name)s, %(type)s, %(description)s) RETURNING conference.conference_id\n",
      "2025-02-06 14:32:22,226 INFO sqlalchemy.engine.Engine [cached since 6.477s ago] {'name': 'ICML', 'type': 'Not Defined', 'description': None}\n",
      "2025-02-06 14:32:22,227 INFO sqlalchemy.engine.Engine COMMIT\n",
      "2025-02-06 14:32:22,228 INFO sqlalchemy.engine.Engine BEGIN (implicit)\n",
      "2025-02-06 14:32:22,228 INFO sqlalchemy.engine.Engine SELECT conference.conference_id, conference.name, conference.type, conference.description \n",
      "FROM conference \n",
      "WHERE conference.conference_id = %(pk_1)s\n",
      "2025-02-06 14:32:22,228 INFO sqlalchemy.engine.Engine [cached since 6.474s ago] {'pk_1': 2}\n",
      "2025-02-06 14:32:22,229 INFO sqlalchemy.engine.Engine ROLLBACK\n"
     ]
    }
   ],
   "source": [
    "# First create a conference to get its ID\n",
    "conf = dm.create_conference(\"ICML\")\n",
    "conference_id = conf.conference_id  # This is the auto-generated ID\n"
   ]
  },
  {
   "cell_type": "code",
   "execution_count": 17,
   "metadata": {},
   "outputs": [
    {
     "name": "stdout",
     "output_type": "stream",
     "text": [
      "2025-02-06 14:37:39,159 INFO sqlalchemy.engine.Engine BEGIN (implicit)\n",
      "2025-02-06 14:37:39,161 INFO sqlalchemy.engine.Engine SELECT conference.conference_id AS conference_conference_id, conference.name AS conference_name, conference.type AS conference_type, conference.description AS conference_description \n",
      "FROM conference \n",
      "WHERE conference.name = %(name_1)s \n",
      " LIMIT %(param_1)s\n",
      "2025-02-06 14:37:39,162 INFO sqlalchemy.engine.Engine [cached since 323.4s ago] {'name_1': 'ICML', 'param_1': 1}\n",
      "2025-02-06 14:37:39,176 INFO sqlalchemy.engine.Engine SELECT conference_instance.instance_id AS conference_instance_instance_id, conference_instance.name AS conference_instance_name, conference_instance.conference_id AS conference_instance_conference_id, conference_instance.year AS conference_instance_year, conference_instance.start_date AS conference_instance_start_date, conference_instance.end_date AS conference_instance_end_date, conference_instance.location AS conference_instance_location, conference_instance.website AS conference_instance_website \n",
      "FROM conference_instance \n",
      "WHERE conference_instance.name = %(name_1)s AND conference_instance.conference_id = %(conference_id_1)s AND conference_instance.year = %(year_1)s \n",
      " LIMIT %(param_1)s\n",
      "2025-02-06 14:37:39,176 INFO sqlalchemy.engine.Engine [cached since 291.7s ago] {'name_1': 'ICML 2024', 'conference_id_1': 2, 'year_1': 2024, 'param_1': 1}\n",
      "2025-02-06 14:37:39,181 INFO sqlalchemy.engine.Engine ROLLBACK\n"
     ]
    }
   ],
   "source": [
    "# Now use the ID to create an instance\n",
    "conference_instance = dm.create_conference_instance(\n",
    "    name=\"ICML 2024\",\n",
    "    conference_name=\"ICML\",  # Use the ID instead of name\n",
    "    year=2024,\n",
    "    start_date=datetime(2024, 7, 21),\n",
    "    end_date=datetime(2024, 7, 27),\n",
    "    location=\"Vienna, Austria\",\n",
    "    website=\"https://icml.cc\"\n",
    ")"
   ]
  },
  {
   "cell_type": "code",
   "execution_count": 10,
   "metadata": {},
   "outputs": [
    {
     "name": "stdout",
     "output_type": "stream",
     "text": [
      "2025-02-06 14:32:50,422 INFO sqlalchemy.engine.Engine BEGIN (implicit)\n",
      "2025-02-06 14:32:50,425 INFO sqlalchemy.engine.Engine SELECT affiliation.affiliation_id AS affiliation_affiliation_id, affiliation.name AS affiliation_name, affiliation.aliases AS affiliation_aliases, affiliation.type AS affiliation_type, affiliation.location AS affiliation_location, affiliation.website AS affiliation_website, affiliation.description AS affiliation_description \n",
      "FROM affiliation \n",
      "WHERE affiliation.name = %(name_1)s AND affiliation.type = %(type_1)s \n",
      " LIMIT %(param_1)s\n",
      "2025-02-06 14:32:50,425 INFO sqlalchemy.engine.Engine [generated in 0.00057s] {'name_1': 'Massachusetts Institute of Technology', 'type_1': 'University', 'param_1': 1}\n",
      "2025-02-06 14:32:50,429 INFO sqlalchemy.engine.Engine SELECT affiliation.affiliation_id AS affiliation_affiliation_id, affiliation.name AS affiliation_name, affiliation.aliases AS affiliation_aliases, affiliation.type AS affiliation_type, affiliation.location AS affiliation_location, affiliation.website AS affiliation_website, affiliation.description AS affiliation_description \n",
      "FROM affiliation \n",
      "WHERE (affiliation.aliases @> %(aliases_1)s::VARCHAR[]) OR affiliation.name = %(name_1)s \n",
      " LIMIT %(param_1)s\n",
      "2025-02-06 14:32:50,429 INFO sqlalchemy.engine.Engine [generated in 0.00036s] {'aliases_1': ['MIT'], 'name_1': 'MIT', 'param_1': 1}\n",
      "2025-02-06 14:32:50,431 INFO sqlalchemy.engine.Engine INSERT INTO affiliation (name, aliases, type, location, website, description) VALUES (%(name)s, %(aliases)s::VARCHAR[], %(type)s, %(location)s, %(website)s, %(description)s) RETURNING affiliation.affiliation_id\n",
      "2025-02-06 14:32:50,431 INFO sqlalchemy.engine.Engine [generated in 0.00027s] {'name': 'Massachusetts Institute of Technology', 'aliases': ['MIT', 'MIT University'], 'type': 'University', 'location': 'Cambridge, MA', 'website': None, 'description': None}\n",
      "2025-02-06 14:32:50,432 INFO sqlalchemy.engine.Engine COMMIT\n",
      "2025-02-06 14:32:50,433 INFO sqlalchemy.engine.Engine BEGIN (implicit)\n",
      "2025-02-06 14:32:50,434 INFO sqlalchemy.engine.Engine SELECT affiliation.affiliation_id, affiliation.name, affiliation.aliases, affiliation.type, affiliation.location, affiliation.website, affiliation.description \n",
      "FROM affiliation \n",
      "WHERE affiliation.affiliation_id = %(pk_1)s\n",
      "2025-02-06 14:32:50,434 INFO sqlalchemy.engine.Engine [generated in 0.00046s] {'pk_1': 1}\n",
      "2025-02-06 14:32:50,435 INFO sqlalchemy.engine.Engine ROLLBACK\n"
     ]
    },
    {
     "data": {
      "text/plain": [
       "<Affiliation(id=1, name=Massachusetts Institute of Technology, type=University)>"
      ]
     },
     "execution_count": 10,
     "metadata": {},
     "output_type": "execute_result"
    }
   ],
   "source": [
    "dm.create_affiliation(\n",
    "    name=\"Massachusetts Institute of Technology\",\n",
    "    aliases=[\"MIT\", \"MIT University\"],\n",
    "    type=\"University\",\n",
    "    location=\"Cambridge, MA\"\n",
    ")"
   ]
  },
  {
   "cell_type": "code",
   "execution_count": null,
   "metadata": {},
   "outputs": [],
   "source": [
    "# Try creating an author\n",
    "author = dm.create_author(\n",
    "    name=\"John Doe\",\n",
    "    author_id=\"~john_doe\",\n",
    "    email=\"john@example.com\"\n",
    ")"
   ]
  },
  {
   "cell_type": "code",
   "execution_count": 14,
   "metadata": {},
   "outputs": [
    {
     "name": "stdout",
     "output_type": "stream",
     "text": [
      "2025-02-06 14:35:07,238 INFO sqlalchemy.engine.Engine BEGIN (implicit)\n",
      "2025-02-06 14:35:07,238 INFO sqlalchemy.engine.Engine SELECT author.author_id AS author_author_id, author.name AS author_name, author.email AS author_email, author.google_scholar_url AS author_google_scholar_url, author.home_website AS author_home_website, author.nationality AS author_nationality \n",
      "FROM author \n",
      "WHERE author.author_id = %(author_id_1)s \n",
      " LIMIT %(param_1)s\n",
      "2025-02-06 14:35:07,239 INFO sqlalchemy.engine.Engine [cached since 111.4s ago] {'author_id_1': '~john_doe2', 'param_1': 1}\n",
      "2025-02-06 14:35:07,241 INFO sqlalchemy.engine.Engine SELECT affiliation.affiliation_id AS affiliation_affiliation_id, affiliation.name AS affiliation_name, affiliation.aliases AS affiliation_aliases, affiliation.type AS affiliation_type, affiliation.location AS affiliation_location, affiliation.website AS affiliation_website, affiliation.description AS affiliation_description \n",
      "FROM affiliation \n",
      "WHERE affiliation.name = %(name_1)s OR (affiliation.aliases @> %(aliases_1)s::VARCHAR[]) \n",
      " LIMIT %(param_1)s\n",
      "2025-02-06 14:35:07,241 INFO sqlalchemy.engine.Engine [cached since 111.4s ago] {'name_1': 'MIT', 'aliases_1': ['MIT'], 'param_1': 1}\n",
      "2025-02-06 14:35:07,243 INFO sqlalchemy.engine.Engine INSERT INTO author (author_id, name, email, google_scholar_url, home_website, nationality) VALUES (%(author_id)s, %(name)s, %(email)s, %(google_scholar_url)s, %(home_website)s, %(nationality)s)\n",
      "2025-02-06 14:35:07,243 INFO sqlalchemy.engine.Engine [generated in 0.00020s] {'author_id': '~john_doe2', 'name': 'John Doe', 'email': 'john.doe1@mit.edu', 'google_scholar_url': 'https://scholar.google.com/citations?user=...', 'home_website': 'https://johndoe.com', 'nationality': 'USA'}\n",
      "2025-02-06 14:35:07,246 INFO sqlalchemy.engine.Engine INSERT INTO author_affiliation (author_id, affiliation_id) VALUES (%(author_id)s, %(affiliation_id)s)\n",
      "2025-02-06 14:35:07,246 INFO sqlalchemy.engine.Engine [generated in 0.00020s] {'author_id': '~john_doe2', 'affiliation_id': 1}\n",
      "2025-02-06 14:35:07,250 INFO sqlalchemy.engine.Engine COMMIT\n",
      "2025-02-06 14:35:07,251 INFO sqlalchemy.engine.Engine BEGIN (implicit)\n",
      "2025-02-06 14:35:07,252 INFO sqlalchemy.engine.Engine SELECT author.author_id, author.name, author.email, author.google_scholar_url, author.home_website, author.nationality \n",
      "FROM author \n",
      "WHERE author.author_id = %(pk_1)s\n",
      "2025-02-06 14:35:07,252 INFO sqlalchemy.engine.Engine [generated in 0.00018s] {'pk_1': '~john_doe2'}\n",
      "2025-02-06 14:35:07,253 INFO sqlalchemy.engine.Engine ROLLBACK\n"
     ]
    }
   ],
   "source": [
    "# Full usage with all fields\n",
    "author = dm.create_author(\n",
    "    name=\"John Doe\",\n",
    "    author_id=\"~john_doe2\",\n",
    "    email=\"john.doe1@mit.edu\",\n",
    "    google_scholar_url=\"https://scholar.google.com/citations?user=...\",\n",
    "    home_website=\"https://johndoe.com\",\n",
    "    nationality=\"USA\",\n",
    "    affiliations=[\"MIT\"]\n",
    ")"
   ]
  },
  {
   "cell_type": "code",
   "execution_count": 15,
   "metadata": {},
   "outputs": [],
   "source": [
    "# Define test data for the paper\n",
    "title = \"A Novel Approach to Testing\"\n",
    "year = 2025\n",
    "authors = [\n",
    "    {\"author_id\": \"~alice_smith\", \"name\": \"Alice Smith\", \"affiliations\": [\"MIT\"]},\n",
    "    {\"author_id\": \"~bob_johnson\", \"name\": \"Bob Johnson\", \"affiliations\": [\"Massachusetts Institute of Technology\"]}\n",
    "]\n",
    "keywords = [\"Testing\", \"Software Engineering\", \"Quality Assurance\"]\n",
    "references = [\n",
    "    {\"title\": \"Previous Work on Testing\", \"author\": \"John Doe\", \"year\": 2020, \"journal\": \"Testing Journal\", \"web_url\": \"http://example.com\"},\n",
    "    {\"title\": \"Another Reference\", \"author\": \"Jane Doe\", \"year\": 2021}\n",
    "]\n"
   ]
  },
  {
   "cell_type": "code",
   "execution_count": null,
   "metadata": {},
   "outputs": [
    {
     "name": "stdout",
     "output_type": "stream",
     "text": [
      "2025-02-06 14:40:11,964 INFO sqlalchemy.engine.Engine BEGIN (implicit)\n",
      "2025-02-06 14:40:11,965 INFO sqlalchemy.engine.Engine SELECT conference_instance.instance_id AS conference_instance_instance_id, conference_instance.name AS conference_instance_name, conference_instance.conference_id AS conference_instance_conference_id, conference_instance.year AS conference_instance_year, conference_instance.start_date AS conference_instance_start_date, conference_instance.end_date AS conference_instance_end_date, conference_instance.location AS conference_instance_location, conference_instance.website AS conference_instance_website \n",
      "FROM conference_instance \n",
      "WHERE conference_instance.instance_id = %(pk_1)s\n",
      "2025-02-06 14:40:11,966 INFO sqlalchemy.engine.Engine [cached since 178.4s ago] {'pk_1': 1}\n",
      "2025-02-06 14:40:11,990 INFO sqlalchemy.engine.Engine SELECT paper.paper_id AS paper_paper_id, paper.instance_id AS paper_instance_id, paper.title AS paper_title, paper.type AS paper_type, paper.year AS paper_year, paper.publish_date AS paper_publish_date, paper.tldr AS paper_tldr, paper.abstract AS paper_abstract, paper.content AS paper_content, paper.pdf_path AS paper_pdf_path, paper.citation_count AS paper_citation_count, paper.award AS paper_award, paper.doi AS paper_doi, paper.code_url AS paper_code_url, paper.supplementary_material_url AS paper_supplementary_material_url \n",
      "FROM paper \n",
      "WHERE paper.title = %(title_1)s AND paper.year = %(year_1)s AND paper.instance_id = %(instance_id_1)s \n",
      " LIMIT %(param_1)s\n",
      "2025-02-06 14:40:11,990 INFO sqlalchemy.engine.Engine [cached since 39.08s ago] {'title_1': 'A Novel Approach to Testing', 'year_1': 2025, 'instance_id_1': 1, 'param_1': 1}\n",
      "2025-02-06 14:40:11,991 INFO sqlalchemy.engine.Engine ROLLBACK\n"
     ]
    },
    {
     "ename": "TypeError",
     "evalue": "'TLDR' is an invalid keyword argument for Paper",
     "output_type": "error",
     "traceback": [
      "\u001b[0;31m---------------------------------------------------------------------------\u001b[0m",
      "\u001b[0;31mTypeError\u001b[0m                                 Traceback (most recent call last)",
      "Cell \u001b[0;32mIn[20], line 2\u001b[0m\n\u001b[1;32m      1\u001b[0m \u001b[38;5;66;03m# Create the paper\u001b[39;00m\n\u001b[0;32m----> 2\u001b[0m paper \u001b[38;5;241m=\u001b[39m \u001b[43mdm\u001b[49m\u001b[38;5;241;43m.\u001b[39;49m\u001b[43mcreate_paper\u001b[49m\u001b[43m(\u001b[49m\n\u001b[1;32m      3\u001b[0m \u001b[43m    \u001b[49m\u001b[43mtitle\u001b[49m\u001b[38;5;241;43m=\u001b[39;49m\u001b[43mtitle\u001b[49m\u001b[43m,\u001b[49m\n\u001b[1;32m      4\u001b[0m \u001b[43m    \u001b[49m\u001b[43myear\u001b[49m\u001b[38;5;241;43m=\u001b[39;49m\u001b[43myear\u001b[49m\u001b[43m,\u001b[49m\n\u001b[1;32m      5\u001b[0m \u001b[43m    \u001b[49m\u001b[43mconference_instance_id\u001b[49m\u001b[38;5;241;43m=\u001b[39;49m\u001b[43mconference_instance\u001b[49m\u001b[38;5;241;43m.\u001b[39;49m\u001b[43minstance_id\u001b[49m\u001b[43m,\u001b[49m\n\u001b[1;32m      6\u001b[0m \u001b[43m    \u001b[49m\u001b[43mauthors\u001b[49m\u001b[38;5;241;43m=\u001b[39;49m\u001b[43mauthors\u001b[49m\u001b[43m,\u001b[49m\n\u001b[1;32m      7\u001b[0m \u001b[43m    \u001b[49m\u001b[43mkeywords\u001b[49m\u001b[38;5;241;43m=\u001b[39;49m\u001b[43mkeywords\u001b[49m\u001b[43m,\u001b[49m\n\u001b[1;32m      8\u001b[0m \u001b[43m    \u001b[49m\u001b[43mreferences\u001b[49m\u001b[38;5;241;43m=\u001b[39;49m\u001b[43mreferences\u001b[49m\u001b[43m,\u001b[49m\n\u001b[1;32m      9\u001b[0m \u001b[43m    \u001b[49m\u001b[38;5;28;43mtype\u001b[39;49m\u001b[38;5;241;43m=\u001b[39;49m\u001b[38;5;124;43m\"\u001b[39;49m\u001b[38;5;124;43mResearch\u001b[39;49m\u001b[38;5;124;43m\"\u001b[39;49m\u001b[43m,\u001b[49m\n\u001b[1;32m     10\u001b[0m \u001b[43m    \u001b[49m\u001b[43mpublish_date\u001b[49m\u001b[38;5;241;43m=\u001b[39;49m\u001b[43mdate\u001b[49m\u001b[43m(\u001b[49m\u001b[38;5;241;43m2025\u001b[39;49m\u001b[43m,\u001b[49m\u001b[43m \u001b[49m\u001b[38;5;241;43m5\u001b[39;49m\u001b[43m,\u001b[49m\u001b[43m \u001b[49m\u001b[38;5;241;43m1\u001b[39;49m\u001b[43m)\u001b[49m\u001b[43m,\u001b[49m\n\u001b[1;32m     11\u001b[0m \u001b[43m    \u001b[49m\u001b[43mTLDR\u001b[49m\u001b[38;5;241;43m=\u001b[39;49m\u001b[38;5;124;43m\"\u001b[39;49m\u001b[38;5;124;43mThis paper presents a novel approach to testing.\u001b[39;49m\u001b[38;5;124;43m\"\u001b[39;49m\u001b[43m,\u001b[49m\n\u001b[1;32m     12\u001b[0m \u001b[43m    \u001b[49m\u001b[43mabstract\u001b[49m\u001b[38;5;241;43m=\u001b[39;49m\u001b[38;5;124;43m\"\u001b[39;49m\u001b[38;5;124;43mIn this paper, we explore new methodologies for software testing.\u001b[39;49m\u001b[38;5;124;43m\"\u001b[39;49m\u001b[43m,\u001b[49m\n\u001b[1;32m     13\u001b[0m \u001b[43m    \u001b[49m\u001b[43mcontent\u001b[49m\u001b[38;5;241;43m=\u001b[39;49m\u001b[38;5;124;43m\"\u001b[39;49m\u001b[38;5;124;43mFull content of the paper goes here.\u001b[39;49m\u001b[38;5;124;43m\"\u001b[39;49m\u001b[43m,\u001b[49m\n\u001b[1;32m     14\u001b[0m \u001b[43m    \u001b[49m\u001b[43mpdf_path\u001b[49m\u001b[38;5;241;43m=\u001b[39;49m\u001b[38;5;124;43m\"\u001b[39;49m\u001b[38;5;124;43mhttp://example.com/paper.pdf\u001b[39;49m\u001b[38;5;124;43m\"\u001b[39;49m\u001b[43m,\u001b[49m\n\u001b[1;32m     15\u001b[0m \u001b[43m    \u001b[49m\u001b[43mcitation_count\u001b[49m\u001b[38;5;241;43m=\u001b[39;49m\u001b[38;5;241;43m0\u001b[39;49m\u001b[43m,\u001b[49m\n\u001b[1;32m     16\u001b[0m \u001b[43m    \u001b[49m\u001b[43maward\u001b[49m\u001b[38;5;241;43m=\u001b[39;49m\u001b[38;5;124;43m\"\u001b[39;49m\u001b[38;5;124;43mBest Paper\u001b[39;49m\u001b[38;5;124;43m\"\u001b[39;49m\u001b[43m,\u001b[49m\n\u001b[1;32m     17\u001b[0m \u001b[43m    \u001b[49m\u001b[43mdoi\u001b[49m\u001b[38;5;241;43m=\u001b[39;49m\u001b[38;5;124;43m\"\u001b[39;49m\u001b[38;5;124;43m10.1234/test.2025\u001b[39;49m\u001b[38;5;124;43m\"\u001b[39;49m\u001b[43m,\u001b[49m\n\u001b[1;32m     18\u001b[0m \u001b[43m    \u001b[49m\u001b[43mcode_url\u001b[49m\u001b[38;5;241;43m=\u001b[39;49m\u001b[38;5;124;43m\"\u001b[39;49m\u001b[38;5;124;43mhttp://example.com/code\u001b[39;49m\u001b[38;5;124;43m\"\u001b[39;49m\u001b[43m,\u001b[49m\n\u001b[1;32m     19\u001b[0m \u001b[43m    \u001b[49m\u001b[43msupplementary_material_url\u001b[49m\u001b[38;5;241;43m=\u001b[39;49m\u001b[38;5;124;43m\"\u001b[39;49m\u001b[38;5;124;43mhttp://example.com/supplementary\u001b[39;49m\u001b[38;5;124;43m\"\u001b[39;49m\n\u001b[1;32m     20\u001b[0m \u001b[43m)\u001b[49m\n",
      "File \u001b[0;32m~/Documents/Project/Agent/mytinyagent/data_manager.py:377\u001b[0m, in \u001b[0;36mDataManager.create_paper\u001b[0;34m(self, title, year, conference_instance_id, authors, keywords, references, type, publish_date, TLDR, abstract, content, pdf_path, citation_count, award, doi, code_url, supplementary_material_url)\u001b[0m\n\u001b[1;32m    375\u001b[0m \u001b[38;5;28;01mexcept\u001b[39;00m \u001b[38;5;167;01mException\u001b[39;00m \u001b[38;5;28;01mas\u001b[39;00m e:\n\u001b[1;32m    376\u001b[0m     session\u001b[38;5;241m.\u001b[39mrollback()\n\u001b[0;32m--> 377\u001b[0m     \u001b[38;5;28;01mraise\u001b[39;00m e\n\u001b[1;32m    378\u001b[0m \u001b[38;5;28;01mfinally\u001b[39;00m:\n\u001b[1;32m    379\u001b[0m     session\u001b[38;5;241m.\u001b[39mclose()\n",
      "File \u001b[0;32m~/Documents/Project/Agent/mytinyagent/data_manager.py:350\u001b[0m, in \u001b[0;36mDataManager.create_paper\u001b[0;34m(self, title, year, conference_instance_id, authors, keywords, references, type, publish_date, TLDR, abstract, content, pdf_path, citation_count, award, doi, code_url, supplementary_material_url)\u001b[0m\n\u001b[1;32m    347\u001b[0m     \u001b[38;5;28;01mreturn\u001b[39;00m existing_paper  \u001b[38;5;66;03m# Return the existing paper if found\u001b[39;00m\n\u001b[1;32m    349\u001b[0m \u001b[38;5;66;03m# Create the Paper object with all relevant fields\u001b[39;00m\n\u001b[0;32m--> 350\u001b[0m paper \u001b[38;5;241m=\u001b[39m \u001b[43mPaper\u001b[49m\u001b[43m(\u001b[49m\u001b[43mtitle\u001b[49m\u001b[38;5;241;43m=\u001b[39;49m\u001b[43mtitle\u001b[49m\u001b[43m,\u001b[49m\u001b[43m \u001b[49m\u001b[43myear\u001b[49m\u001b[38;5;241;43m=\u001b[39;49m\u001b[43myear\u001b[49m\u001b[43m,\u001b[49m\u001b[43m \u001b[49m\u001b[43minstance_id\u001b[49m\u001b[38;5;241;43m=\u001b[39;49m\u001b[43mconference_instance_id\u001b[49m\u001b[43m,\u001b[49m\u001b[43m \u001b[49m\u001b[38;5;28;43mtype\u001b[39;49m\u001b[38;5;241;43m=\u001b[39;49m\u001b[38;5;28;43mtype\u001b[39;49m\u001b[43m,\u001b[49m\n\u001b[1;32m    351\u001b[0m \u001b[43m              \u001b[49m\u001b[43mpublish_date\u001b[49m\u001b[38;5;241;43m=\u001b[39;49m\u001b[43mpublish_date\u001b[49m\u001b[43m,\u001b[49m\u001b[43m \u001b[49m\u001b[43mTLDR\u001b[49m\u001b[38;5;241;43m=\u001b[39;49m\u001b[43mTLDR\u001b[49m\u001b[43m,\u001b[49m\u001b[43m \u001b[49m\u001b[43mabstract\u001b[49m\u001b[38;5;241;43m=\u001b[39;49m\u001b[43mabstract\u001b[49m\u001b[43m,\u001b[49m\n\u001b[1;32m    352\u001b[0m \u001b[43m              \u001b[49m\u001b[43mcontent\u001b[49m\u001b[38;5;241;43m=\u001b[39;49m\u001b[43mcontent\u001b[49m\u001b[43m,\u001b[49m\u001b[43m \u001b[49m\u001b[43mpdf_path\u001b[49m\u001b[38;5;241;43m=\u001b[39;49m\u001b[43mpdf_path\u001b[49m\u001b[43m,\u001b[49m\u001b[43m \u001b[49m\u001b[43mcitation_count\u001b[49m\u001b[38;5;241;43m=\u001b[39;49m\u001b[43mcitation_count\u001b[49m\u001b[43m,\u001b[49m\n\u001b[1;32m    353\u001b[0m \u001b[43m              \u001b[49m\u001b[43maward\u001b[49m\u001b[38;5;241;43m=\u001b[39;49m\u001b[43maward\u001b[49m\u001b[43m,\u001b[49m\u001b[43m \u001b[49m\u001b[43mdoi\u001b[49m\u001b[38;5;241;43m=\u001b[39;49m\u001b[43mdoi\u001b[49m\u001b[43m,\u001b[49m\u001b[43m \u001b[49m\u001b[43mcode_url\u001b[49m\u001b[38;5;241;43m=\u001b[39;49m\u001b[43mcode_url\u001b[49m\u001b[43m,\u001b[49m\n\u001b[1;32m    354\u001b[0m \u001b[43m              \u001b[49m\u001b[43msupplementary_material_url\u001b[49m\u001b[38;5;241;43m=\u001b[39;49m\u001b[43msupplementary_material_url\u001b[49m\u001b[43m)\u001b[49m\n\u001b[1;32m    356\u001b[0m \u001b[38;5;28;01mif\u001b[39;00m authors:\n\u001b[1;32m    357\u001b[0m     \u001b[38;5;28;01mfor\u001b[39;00m author_data \u001b[38;5;129;01min\u001b[39;00m authors:\n",
      "File \u001b[0;32m<string>:4\u001b[0m, in \u001b[0;36m__init__\u001b[0;34m(self, **kwargs)\u001b[0m\n",
      "File \u001b[0;32m/opt/miniconda3/envs/langchain_agent/lib/python3.12/site-packages/sqlalchemy/orm/state.py:571\u001b[0m, in \u001b[0;36mInstanceState._initialize_instance\u001b[0;34m(*mixed, **kwargs)\u001b[0m\n\u001b[1;32m    569\u001b[0m     manager\u001b[38;5;241m.\u001b[39moriginal_init(\u001b[38;5;241m*\u001b[39mmixed[\u001b[38;5;241m1\u001b[39m:], \u001b[38;5;241m*\u001b[39m\u001b[38;5;241m*\u001b[39mkwargs)\n\u001b[1;32m    570\u001b[0m \u001b[38;5;28;01mexcept\u001b[39;00m:\n\u001b[0;32m--> 571\u001b[0m     \u001b[38;5;28;01mwith\u001b[39;00m \u001b[43mutil\u001b[49m\u001b[38;5;241;43m.\u001b[39;49m\u001b[43msafe_reraise\u001b[49m\u001b[43m(\u001b[49m\u001b[43m)\u001b[49m:\n\u001b[1;32m    572\u001b[0m         manager\u001b[38;5;241m.\u001b[39mdispatch\u001b[38;5;241m.\u001b[39minit_failure(\u001b[38;5;28mself\u001b[39m, args, kwargs)\n",
      "File \u001b[0;32m/opt/miniconda3/envs/langchain_agent/lib/python3.12/site-packages/sqlalchemy/util/langhelpers.py:146\u001b[0m, in \u001b[0;36msafe_reraise.__exit__\u001b[0;34m(self, type_, value, traceback)\u001b[0m\n\u001b[1;32m    144\u001b[0m     \u001b[38;5;28;01massert\u001b[39;00m exc_value \u001b[38;5;129;01mis\u001b[39;00m \u001b[38;5;129;01mnot\u001b[39;00m \u001b[38;5;28;01mNone\u001b[39;00m\n\u001b[1;32m    145\u001b[0m     \u001b[38;5;28mself\u001b[39m\u001b[38;5;241m.\u001b[39m_exc_info \u001b[38;5;241m=\u001b[39m \u001b[38;5;28;01mNone\u001b[39;00m  \u001b[38;5;66;03m# remove potential circular references\u001b[39;00m\n\u001b[0;32m--> 146\u001b[0m     \u001b[38;5;28;01mraise\u001b[39;00m exc_value\u001b[38;5;241m.\u001b[39mwith_traceback(exc_tb)\n\u001b[1;32m    147\u001b[0m \u001b[38;5;28;01melse\u001b[39;00m:\n\u001b[1;32m    148\u001b[0m     \u001b[38;5;28mself\u001b[39m\u001b[38;5;241m.\u001b[39m_exc_info \u001b[38;5;241m=\u001b[39m \u001b[38;5;28;01mNone\u001b[39;00m  \u001b[38;5;66;03m# remove potential circular references\u001b[39;00m\n",
      "File \u001b[0;32m/opt/miniconda3/envs/langchain_agent/lib/python3.12/site-packages/sqlalchemy/orm/state.py:569\u001b[0m, in \u001b[0;36mInstanceState._initialize_instance\u001b[0;34m(*mixed, **kwargs)\u001b[0m\n\u001b[1;32m    566\u001b[0m manager\u001b[38;5;241m.\u001b[39mdispatch\u001b[38;5;241m.\u001b[39minit(\u001b[38;5;28mself\u001b[39m, args, kwargs)\n\u001b[1;32m    568\u001b[0m \u001b[38;5;28;01mtry\u001b[39;00m:\n\u001b[0;32m--> 569\u001b[0m     \u001b[43mmanager\u001b[49m\u001b[38;5;241;43m.\u001b[39;49m\u001b[43moriginal_init\u001b[49m\u001b[43m(\u001b[49m\u001b[38;5;241;43m*\u001b[39;49m\u001b[43mmixed\u001b[49m\u001b[43m[\u001b[49m\u001b[38;5;241;43m1\u001b[39;49m\u001b[43m:\u001b[49m\u001b[43m]\u001b[49m\u001b[43m,\u001b[49m\u001b[43m \u001b[49m\u001b[38;5;241;43m*\u001b[39;49m\u001b[38;5;241;43m*\u001b[39;49m\u001b[43mkwargs\u001b[49m\u001b[43m)\u001b[49m\n\u001b[1;32m    570\u001b[0m \u001b[38;5;28;01mexcept\u001b[39;00m:\n\u001b[1;32m    571\u001b[0m     \u001b[38;5;28;01mwith\u001b[39;00m util\u001b[38;5;241m.\u001b[39msafe_reraise():\n",
      "File \u001b[0;32m/opt/miniconda3/envs/langchain_agent/lib/python3.12/site-packages/sqlalchemy/orm/decl_base.py:2175\u001b[0m, in \u001b[0;36m_declarative_constructor\u001b[0;34m(self, **kwargs)\u001b[0m\n\u001b[1;32m   2173\u001b[0m \u001b[38;5;28;01mfor\u001b[39;00m k \u001b[38;5;129;01min\u001b[39;00m kwargs:\n\u001b[1;32m   2174\u001b[0m     \u001b[38;5;28;01mif\u001b[39;00m \u001b[38;5;129;01mnot\u001b[39;00m \u001b[38;5;28mhasattr\u001b[39m(cls_, k):\n\u001b[0;32m-> 2175\u001b[0m         \u001b[38;5;28;01mraise\u001b[39;00m \u001b[38;5;167;01mTypeError\u001b[39;00m(\n\u001b[1;32m   2176\u001b[0m             \u001b[38;5;124m\"\u001b[39m\u001b[38;5;132;01m%r\u001b[39;00m\u001b[38;5;124m is an invalid keyword argument for \u001b[39m\u001b[38;5;132;01m%s\u001b[39;00m\u001b[38;5;124m\"\u001b[39m \u001b[38;5;241m%\u001b[39m (k, cls_\u001b[38;5;241m.\u001b[39m\u001b[38;5;18m__name__\u001b[39m)\n\u001b[1;32m   2177\u001b[0m         )\n\u001b[1;32m   2178\u001b[0m     \u001b[38;5;28msetattr\u001b[39m(\u001b[38;5;28mself\u001b[39m, k, kwargs[k])\n",
      "\u001b[0;31mTypeError\u001b[0m: 'TLDR' is an invalid keyword argument for Paper"
     ]
    }
   ],
   "source": [
    "# Create the paper\n",
    "paper = dm.create_paper(\n",
    "    title=title,\n",
    "    year=year,\n",
    "    conference_instance_id=conference_instance.instance_id,\n",
    "    authors=authors,\n",
    "    keywords=keywords,\n",
    "    references=references,\n",
    "    type=\"Research\",\n",
    "    publish_date=date(2025, 5, 1),\n",
    "    TLDR=\"This paper presents a novel approach to testing.\",\n",
    "    abstract=\"In this paper, we explore new methodologies for software testing.\",\n",
    "    content=\"Full content of the paper goes here.\",\n",
    "    pdf_path=\"http://example.com/paper.pdf\",\n",
    "    citation_count=0,\n",
    "    award=\"Best Paper\",\n",
    "    doi=\"10.1234/test.2025\",\n",
    "    code_url=\"http://example.com/code\",\n",
    "    supplementary_material_url=\"http://example.com/supplementary\"\n",
    ")"
   ]
  }
 ],
 "metadata": {
  "kernelspec": {
   "display_name": "langchain_agent",
   "language": "python",
   "name": "python3"
  },
  "language_info": {
   "codemirror_mode": {
    "name": "ipython",
    "version": 3
   },
   "file_extension": ".py",
   "mimetype": "text/x-python",
   "name": "python",
   "nbconvert_exporter": "python",
   "pygments_lexer": "ipython3",
   "version": "3.12.8"
  }
 },
 "nbformat": 4,
 "nbformat_minor": 2
}
